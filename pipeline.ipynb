{
 "cells": [
  {
   "cell_type": "code",
   "execution_count": 1,
   "metadata": {},
   "outputs": [],
   "source": [
    "import numpy as np\n",
    "import matplotlib.pyplot as plt\n",
    "from collections import Counter\n",
    "import scipy.signal as sg\n",
    "from sklearn import linear_model\n",
    "from sklearn.decomposition import PCA\n",
    "from sklearn.model_selection import cross_val_score\n",
    "import preproc as pre\n",
    "import sk_tricks\n",
    "import importlib\n",
    "plt.rcParams['figure.figsize'] = [9, 4]"
   ]
  },
  {
   "cell_type": "code",
   "execution_count": 2,
   "metadata": {},
   "outputs": [],
   "source": [
    "# Data-ingestion code from NMA data loader\n",
    "import os, requests\n",
    "\n",
    "fname = []\n",
    "for j in range(3):\n",
    "    fname.append('steinmetz_part%d.npz'%j)\n",
    "url = [\"https://osf.io/agvxh/download\"]\n",
    "url.append(\"https://osf.io/uv3mw/download\")\n",
    "url.append(\"https://osf.io/ehmw2/download\")\n",
    "\n",
    "for j in range(len(url)):\n",
    "    if not os.path.isfile(fname[j]):\n",
    "        try:\n",
    "            r = requests.get(url[j])\n",
    "        except requests.ConnectionError:\n",
    "            print(\"!!! Failed to download data !!!\")\n",
    "        else:\n",
    "            if r.status_code != requests.codes.ok:\n",
    "                print(\"!!! Failed to download data !!!\")\n",
    "            else:\n",
    "                with open(fname[j], \"wb\") as fid:\n",
    "                    fid.write(r.content)\n",
    "\n",
    "alldat = np.array([])\n",
    "for j in range(len(fname)):\n",
    "    alldat = np.hstack((alldat, np.load('steinmetz_part%d.npz'%j, allow_pickle=True)['dat']))"
   ]
  },
  {
   "cell_type": "code",
   "execution_count": 3,
   "metadata": {},
   "outputs": [
    {
     "data": {
      "text/plain": [
       "Counter({'CA1': 187,\n",
       "         'CA2': 115,\n",
       "         'MRN': 80,\n",
       "         'RSP': 181,\n",
       "         'SCig': 366,\n",
       "         'SCsg': 84,\n",
       "         'VISpm': 146,\n",
       "         'VISrl': 150,\n",
       "         'root': 28})"
      ]
     },
     "execution_count": 3,
     "metadata": {},
     "output_type": "execute_result"
    }
   ],
   "source": [
    "# Pick session\n",
    "session = 23\n",
    "dat = alldat[session]\n",
    "N_cells = dat['spks'].shape[0]\n",
    "areas = set(dat['brain_area'])\n",
    "cells_by_area = {area: [i for i in range(N_cells) if dat['brain_area'][i]==area] for area in areas}\n",
    "Counter(dat['brain_area']) # quick cell census (just for inspection)"
   ]
  },
  {
   "cell_type": "code",
   "execution_count": 4,
   "metadata": {},
   "outputs": [
    {
     "name": "stdout",
     "output_type": "stream",
     "text": [
      "Dropped 106 of the original 146 cells\n",
      "Dropped 91 of the original 150 cells\n"
     ]
    }
   ],
   "source": [
    "# Pick brain areas\n",
    "area1 = 'VISpm' # will treat this area as Semedo et al. treated V1.\n",
    "area2 = 'VISrl' # will treat this area as Semedo et al. treated V2.\n",
    "\n",
    "# Get the raw spike-count data for selected areas\n",
    "a1 = dat['spks'][cells_by_area[area1],:,:]\n",
    "a2 = dat['spks'][cells_by_area[area2],:,:]\n",
    "\n",
    "# Rebin. Original bins 10 ms. Coarsening x10 gives 100 ms.\n",
    "coarsening = 10\n",
    "a1_rebinned = pre.rebin(a1, coarsening)\n",
    "a2_rebinned = pre.rebin(a2, coarsening)\n",
    "\n",
    "# Select most promising time window. Adriel recommends 0.5 s to 1 s (relative to trial start)\n",
    "t_start = 5 # inclusive; units are new (coarsened) bins\n",
    "t_end = 10 # exclusive\n",
    "a1_rebinned = a1_rebinned[:,:,t_start:t_end]\n",
    "a2_rebinned = a2_rebinned[:,:,t_start:t_end]\n",
    "\n",
    "N_bins = a1_rebinned.shape[2]\n",
    "\n",
    "# Drop quiet cells\n",
    "min_freq = 0.5\n",
    "t_bin = 0.01 * coarsening\n",
    "min_spikes = min_freq * t_bin\n",
    "a1_trimmed = pre.drop_quiet_cells(a1_rebinned, min_spikes)\n",
    "a2_trimmed = pre.drop_quiet_cells(a2_rebinned, min_spikes)"
   ]
  },
  {
   "cell_type": "code",
   "execution_count": 5,
   "metadata": {},
   "outputs": [
    {
     "name": "stdout",
     "output_type": "stream",
     "text": [
      "Pre-match populations: 40 59\n",
      "Matched populations: 20 20\n",
      "Source population: 20\n"
     ]
    }
   ],
   "source": [
    "# Experiment with population matching to find a good value of n_hist_bins. NB the printed output.\n",
    "# Rough aim: matched populations and source populations should both be repectably large.\n",
    "# Precise aim: not sure! We might be able to automate this once we have a better sense of what works well.\n",
    "# NB that the value you settle on for n_hist_bins will be used at the next stage of the analysis.\n",
    "\n",
    "n_hist_bins = 80 # Fiddle with this! Higher values will tend to lead to smaller matched pops but larger source pop\n",
    "a1_matched, a2_matched, a1_idx, a2_idx = pre.get_matched_pops(\n",
    "    a1_trimmed, a2_trimmed, n_hist_bins=n_hist_bins, geometric_bins=True)"
   ]
  },
  {
   "cell_type": "code",
   "execution_count": 6,
   "metadata": {
    "scrolled": false
   },
   "outputs": [
    {
     "ename": "NameError",
     "evalue": "name 'cv_folds' is not defined",
     "output_type": "error",
     "traceback": [
      "\u001b[0;31m---------------------------------------------------------------------------\u001b[0m",
      "\u001b[0;31mNameError\u001b[0m                                 Traceback (most recent call last)",
      "\u001b[0;32m<ipython-input-6-b9aace80d3d6>\u001b[0m in \u001b[0;36m<module>\u001b[0;34m()\u001b[0m\n\u001b[1;32m     30\u001b[0m     \u001b[0mY_v2\u001b[0m \u001b[0;34m=\u001b[0m \u001b[0mflat_flucs2\u001b[0m\u001b[0;34m[\u001b[0m\u001b[0ma2_idx\u001b[0m\u001b[0;34m]\u001b[0m\u001b[0;34m.\u001b[0m\u001b[0mT\u001b[0m\u001b[0;34m\u001b[0m\u001b[0;34m\u001b[0m\u001b[0m\n\u001b[1;32m     31\u001b[0m \u001b[0;34m\u001b[0m\u001b[0m\n\u001b[0;32m---> 32\u001b[0;31m     \u001b[0ma1_a1_r2s\u001b[0m\u001b[0;34m[\u001b[0m\u001b[0mmatching_run\u001b[0m\u001b[0;34m,\u001b[0m\u001b[0;34m:\u001b[0m\u001b[0;34m]\u001b[0m \u001b[0;34m=\u001b[0m \u001b[0;34m[\u001b[0m\u001b[0mcross_val_score\u001b[0m\u001b[0;34m(\u001b[0m\u001b[0msk_tricks\u001b[0m\u001b[0;34m.\u001b[0m\u001b[0mRRR\u001b[0m\u001b[0;34m(\u001b[0m\u001b[0mrank\u001b[0m\u001b[0;34m)\u001b[0m\u001b[0;34m,\u001b[0m \u001b[0mX\u001b[0m\u001b[0;34m,\u001b[0m \u001b[0mY_v1\u001b[0m\u001b[0;34m,\u001b[0m \u001b[0mcv\u001b[0m \u001b[0;34m=\u001b[0m \u001b[0mcv_folds\u001b[0m\u001b[0;34m,\u001b[0m \u001b[0mscoring\u001b[0m \u001b[0;34m=\u001b[0m \u001b[0msk_tricks\u001b[0m\u001b[0;34m.\u001b[0m\u001b[0mmyr2_score\u001b[0m\u001b[0;34m)\u001b[0m\u001b[0;34m.\u001b[0m\u001b[0mmean\u001b[0m\u001b[0;34m(\u001b[0m\u001b[0;34m)\u001b[0m \u001b[0;32mfor\u001b[0m \u001b[0mrank\u001b[0m \u001b[0;32min\u001b[0m \u001b[0mranks\u001b[0m\u001b[0;34m]\u001b[0m\u001b[0;34m\u001b[0m\u001b[0;34m\u001b[0m\u001b[0m\n\u001b[0m\u001b[1;32m     33\u001b[0m     \u001b[0ma1_a2_r2s\u001b[0m\u001b[0;34m[\u001b[0m\u001b[0mmatching_run\u001b[0m\u001b[0;34m,\u001b[0m\u001b[0;34m:\u001b[0m\u001b[0;34m]\u001b[0m \u001b[0;34m=\u001b[0m \u001b[0;34m[\u001b[0m\u001b[0mcross_val_score\u001b[0m\u001b[0;34m(\u001b[0m\u001b[0msk_tricks\u001b[0m\u001b[0;34m.\u001b[0m\u001b[0mRRR\u001b[0m\u001b[0;34m(\u001b[0m\u001b[0mrank\u001b[0m\u001b[0;34m)\u001b[0m\u001b[0;34m,\u001b[0m \u001b[0mX\u001b[0m\u001b[0;34m,\u001b[0m \u001b[0mY_v2\u001b[0m\u001b[0;34m,\u001b[0m \u001b[0mcv\u001b[0m \u001b[0;34m=\u001b[0m \u001b[0mcv_folds\u001b[0m\u001b[0;34m,\u001b[0m \u001b[0mscoring\u001b[0m \u001b[0;34m=\u001b[0m \u001b[0msk_tricks\u001b[0m\u001b[0;34m.\u001b[0m\u001b[0mmyr2_score\u001b[0m\u001b[0;34m)\u001b[0m\u001b[0;34m.\u001b[0m\u001b[0mmean\u001b[0m\u001b[0;34m(\u001b[0m\u001b[0;34m)\u001b[0m \u001b[0;32mfor\u001b[0m \u001b[0mrank\u001b[0m \u001b[0;32min\u001b[0m \u001b[0mranks\u001b[0m\u001b[0;34m]\u001b[0m\u001b[0;34m\u001b[0m\u001b[0;34m\u001b[0m\u001b[0m\n\u001b[1;32m     34\u001b[0m \u001b[0;34m\u001b[0m\u001b[0m\n",
      "\u001b[0;32m<ipython-input-6-b9aace80d3d6>\u001b[0m in \u001b[0;36m<listcomp>\u001b[0;34m(.0)\u001b[0m\n\u001b[1;32m     30\u001b[0m     \u001b[0mY_v2\u001b[0m \u001b[0;34m=\u001b[0m \u001b[0mflat_flucs2\u001b[0m\u001b[0;34m[\u001b[0m\u001b[0ma2_idx\u001b[0m\u001b[0;34m]\u001b[0m\u001b[0;34m.\u001b[0m\u001b[0mT\u001b[0m\u001b[0;34m\u001b[0m\u001b[0;34m\u001b[0m\u001b[0m\n\u001b[1;32m     31\u001b[0m \u001b[0;34m\u001b[0m\u001b[0m\n\u001b[0;32m---> 32\u001b[0;31m     \u001b[0ma1_a1_r2s\u001b[0m\u001b[0;34m[\u001b[0m\u001b[0mmatching_run\u001b[0m\u001b[0;34m,\u001b[0m\u001b[0;34m:\u001b[0m\u001b[0;34m]\u001b[0m \u001b[0;34m=\u001b[0m \u001b[0;34m[\u001b[0m\u001b[0mcross_val_score\u001b[0m\u001b[0;34m(\u001b[0m\u001b[0msk_tricks\u001b[0m\u001b[0;34m.\u001b[0m\u001b[0mRRR\u001b[0m\u001b[0;34m(\u001b[0m\u001b[0mrank\u001b[0m\u001b[0;34m)\u001b[0m\u001b[0;34m,\u001b[0m \u001b[0mX\u001b[0m\u001b[0;34m,\u001b[0m \u001b[0mY_v1\u001b[0m\u001b[0;34m,\u001b[0m \u001b[0mcv\u001b[0m \u001b[0;34m=\u001b[0m \u001b[0mcv_folds\u001b[0m\u001b[0;34m,\u001b[0m \u001b[0mscoring\u001b[0m \u001b[0;34m=\u001b[0m \u001b[0msk_tricks\u001b[0m\u001b[0;34m.\u001b[0m\u001b[0mmyr2_score\u001b[0m\u001b[0;34m)\u001b[0m\u001b[0;34m.\u001b[0m\u001b[0mmean\u001b[0m\u001b[0;34m(\u001b[0m\u001b[0;34m)\u001b[0m \u001b[0;32mfor\u001b[0m \u001b[0mrank\u001b[0m \u001b[0;32min\u001b[0m \u001b[0mranks\u001b[0m\u001b[0;34m]\u001b[0m\u001b[0;34m\u001b[0m\u001b[0;34m\u001b[0m\u001b[0m\n\u001b[0m\u001b[1;32m     33\u001b[0m     \u001b[0ma1_a2_r2s\u001b[0m\u001b[0;34m[\u001b[0m\u001b[0mmatching_run\u001b[0m\u001b[0;34m,\u001b[0m\u001b[0;34m:\u001b[0m\u001b[0;34m]\u001b[0m \u001b[0;34m=\u001b[0m \u001b[0;34m[\u001b[0m\u001b[0mcross_val_score\u001b[0m\u001b[0;34m(\u001b[0m\u001b[0msk_tricks\u001b[0m\u001b[0;34m.\u001b[0m\u001b[0mRRR\u001b[0m\u001b[0;34m(\u001b[0m\u001b[0mrank\u001b[0m\u001b[0;34m)\u001b[0m\u001b[0;34m,\u001b[0m \u001b[0mX\u001b[0m\u001b[0;34m,\u001b[0m \u001b[0mY_v2\u001b[0m\u001b[0;34m,\u001b[0m \u001b[0mcv\u001b[0m \u001b[0;34m=\u001b[0m \u001b[0mcv_folds\u001b[0m\u001b[0;34m,\u001b[0m \u001b[0mscoring\u001b[0m \u001b[0;34m=\u001b[0m \u001b[0msk_tricks\u001b[0m\u001b[0;34m.\u001b[0m\u001b[0mmyr2_score\u001b[0m\u001b[0;34m)\u001b[0m\u001b[0;34m.\u001b[0m\u001b[0mmean\u001b[0m\u001b[0;34m(\u001b[0m\u001b[0;34m)\u001b[0m \u001b[0;32mfor\u001b[0m \u001b[0mrank\u001b[0m \u001b[0;32min\u001b[0m \u001b[0mranks\u001b[0m\u001b[0;34m]\u001b[0m\u001b[0;34m\u001b[0m\u001b[0;34m\u001b[0m\u001b[0m\n\u001b[1;32m     34\u001b[0m \u001b[0;34m\u001b[0m\u001b[0m\n",
      "\u001b[0;31mNameError\u001b[0m: name 'cv_folds' is not defined"
     ]
    }
   ],
   "source": [
    "# do cross-validated RRR on repeated matchings\n",
    "\n",
    "matching_runs = 2\n",
    "ranks = range(1,11)\n",
    "\n",
    "a1_a1_r2s = np.empty((matching_runs, len(ranks)))\n",
    "a1_a2_r2s = np.empty((matching_runs, len(ranks)))\n",
    "\n",
    "for matching_run in range(matching_runs):\n",
    "\n",
    "    a1_matched, a2_matched, a1_idx, a2_idx = pre.get_matched_pops(\n",
    "        a1_trimmed, a2_trimmed, n_hist_bins=n_hist_bins, geometric_bins=True, verbose=False)\n",
    "\n",
    "    # indices of 'source' V1 neurons should be all those that were not used to match V2 \n",
    "    a1_source_idx = [i for i in range(a1_trimmed.shape[0]) if i not in a1_idx]\n",
    "    assert len(a1_source_idx) + len(a1_idx) == a1_trimmed.shape[0]\n",
    "\n",
    "    # prepare datasets for regression analysis\n",
    "    \n",
    "    # Compute PSTHs (and fluctuations around them) with trimmed datasets, i.e. ignoring the quiet cells\n",
    "    psth1 = a1_trimmed.mean(axis=1).reshape(-1, 1, N_bins)\n",
    "    psth2 = a2_trimmed.mean(axis=1).reshape(-1, 1, N_bins)\n",
    "    fluc1 = a1_trimmed - psth1\n",
    "    fluc2 = a2_trimmed - psth2\n",
    "    \n",
    "    flat_flucs1 = fluc1.reshape(fluc1.shape[0],-1)\n",
    "    flat_flucs2 = fluc2.reshape(fluc2.shape[0],-1)\n",
    "    X = flat_flucs1[a1_source_idx].T\n",
    "    Y_v1 = flat_flucs1[a1_idx].T\n",
    "    Y_v2 = flat_flucs2[a2_idx].T\n",
    "    \n",
    "    a1_a1_r2s[matching_run,:] = [cross_val_score(sk_tricks.RRR(rank), X, Y_v1, cv = cv_folds, scoring = sk_tricks.myr2_score).mean() for rank in ranks]\n",
    "    a1_a2_r2s[matching_run,:] = [cross_val_score(sk_tricks.RRR(rank), X, Y_v2, cv = cv_folds, scoring = sk_tricks.myr2_score).mean() for rank in ranks]\n",
    "\n",
    "plt.plot(ranks, a1_a1_r2s.mean(axis=0), label='a1-a1')\n",
    "plt.plot(ranks, a1_a2_r2s.mean(axis=0), label='a1-a2')\n",
    "plt.ylabel('cross-val R^2')\n",
    "plt.xlabel('Rank constraint')\n",
    "_ = plt.legend()"
   ]
  },
  {
   "cell_type": "code",
   "execution_count": 7,
   "metadata": {},
   "outputs": [
    {
     "data": {
      "text/plain": [
       "20"
      ]
     },
     "execution_count": 7,
     "metadata": {},
     "output_type": "execute_result"
    }
   ],
   "source": [
    "# a quick sanity check\n",
    "full_rank = min(X.shape[1], Y_v1.shape[1])\n",
    "full_rank"
   ]
  },
  {
   "cell_type": "code",
   "execution_count": 8,
   "metadata": {},
   "outputs": [
    {
     "data": {
      "text/plain": [
       "(2385.679350783769, 2385.679350783769)"
      ]
     },
     "execution_count": 8,
     "metadata": {},
     "output_type": "execute_result"
    }
   ],
   "source": [
    "model1 = linear_model.LinearRegression().fit(X,Y_v1)\n",
    "model2 = sk_tricks.RRR(full_rank).fit(X,Y_v1)\n",
    "pred1 = model1.predict(X)\n",
    "pred2 = model2.predict(X)\n",
    "((pred1 - Y_v1)**2).sum(), ((pred2 - Y_v1)**2).sum()"
   ]
  },
  {
   "cell_type": "code",
   "execution_count": null,
   "metadata": {},
   "outputs": [],
   "source": []
  }
 ],
 "metadata": {
  "kernelspec": {
   "display_name": "Python 3",
   "language": "python",
   "name": "python3"
  },
  "language_info": {
   "codemirror_mode": {
    "name": "ipython",
    "version": 3
   },
   "file_extension": ".py",
   "mimetype": "text/x-python",
   "name": "python",
   "nbconvert_exporter": "python",
   "pygments_lexer": "ipython3",
   "version": "3.6.9"
  }
 },
 "nbformat": 4,
 "nbformat_minor": 4
}
